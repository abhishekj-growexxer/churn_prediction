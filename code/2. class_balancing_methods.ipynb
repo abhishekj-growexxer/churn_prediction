{
 "cells": [
  {
   "cell_type": "code",
   "execution_count": 1,
   "id": "0d95bad7",
   "metadata": {},
   "outputs": [],
   "source": [
    "import os\n",
    "import numpy as np\n",
    "import pandas as pd"
   ]
  },
  {
   "cell_type": "code",
   "execution_count": 4,
   "id": "c244f6ad",
   "metadata": {},
   "outputs": [],
   "source": [
    "# Creadint directory to store evaluation metrics for each methods\n",
    "evaluation_files_loc = '../files/class_balancing_methods_evaluations/'\n",
    "if not os.path.exists(evaluation_files_loc):\n",
    "    os.mkdir(evaluation_files_loc)"
   ]
  },
  {
   "cell_type": "markdown",
   "id": "c7328b56",
   "metadata": {},
   "source": [
    "### Reading data"
   ]
  },
  {
   "cell_type": "code",
   "execution_count": null,
   "id": "504ba628",
   "metadata": {},
   "outputs": [],
   "source": [
    "# File location of the dataset\n",
    "data_loc = \"./Churn_Modelling.csv\"\n",
    "\n",
    "# Read the CSV file into a Pandas DataFrame, using the first column as the index\n",
    "df = pd.read_csv(data_loc, index_col=0)\n",
    "\n",
    "df.head()"
   ]
  },
  {
   "cell_type": "markdown",
   "id": "6ce82c4e",
   "metadata": {},
   "source": [
    "### Drop all categorical columns"
   ]
  },
  {
   "cell_type": "code",
   "execution_count": null,
   "id": "89b27680",
   "metadata": {},
   "outputs": [],
   "source": [
    "df.drop(['CustomerId', 'Surname','Geography', 'Gender'], axis = 1,inplace=True)\n",
    "df.head()"
   ]
  },
  {
   "cell_type": "code",
   "execution_count": null,
   "id": "1d397b6e",
   "metadata": {},
   "outputs": [],
   "source": []
  }
 ],
 "metadata": {
  "kernelspec": {
   "display_name": "Python 3 (ipykernel)",
   "language": "python",
   "name": "python3"
  },
  "language_info": {
   "codemirror_mode": {
    "name": "ipython",
    "version": 3
   },
   "file_extension": ".py",
   "mimetype": "text/x-python",
   "name": "python",
   "nbconvert_exporter": "python",
   "pygments_lexer": "ipython3",
   "version": "3.8.16"
  }
 },
 "nbformat": 4,
 "nbformat_minor": 5
}
