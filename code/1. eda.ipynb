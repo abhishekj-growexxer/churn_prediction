{
 "cells": [
  {
   "cell_type": "code",
   "execution_count": 1,
   "id": "6d0b7d61",
   "metadata": {},
   "outputs": [],
   "source": [
    "import dtale\n",
    "import numpy as np\n",
    "import pandas as pd\n",
    "import seaborn as sns\n",
    "import matplotlib.pyplot as plt"
   ]
  },
  {
   "cell_type": "markdown",
   "id": "cd416683",
   "metadata": {},
   "source": [
    "## Some functions to visualize the dataset"
   ]
  },
  {
   "cell_type": "code",
   "execution_count": 2,
   "id": "10215cc9",
   "metadata": {},
   "outputs": [],
   "source": [
    "# To get insights inside columns\n",
    "def plot_boxplot(df, column_name):\n",
    "\n",
    "    ax = sns.boxplot(x=df[column_name])\n",
    "    ax.set_xlabel(column_name)\n",
    "    ax.set_title(f\"Boxplot of {column_name}\")\n",
    "\n",
    "    # adding annotations\n",
    "    mean_age = df[column_name].mean()\n",
    "    min_age = df[column_name].min()\n",
    "    max_age = df[column_name].max()\n",
    "    q1 = df[column_name].quantile(0.25)\n",
    "    q3 = df[column_name].quantile(0.75)\n",
    "    iqr = q3 - q1\n",
    "    \n",
    "    ax.annotate(f\"Mean {column_name}: {mean_age:.1f}\", xy=(mean_age, 0.95), xycoords='data', xytext=(50, 20),\n",
    "                textcoords='offset points', fontsize=12, color='black', ha='center', va='center',\n",
    "                arrowprops=dict(arrowstyle='->', lw=1.5, color='black'))\n",
    "    ax.annotate(f\"Min {column_name}: {min_age}\", xy=(min_age, 0.05), xycoords='data', xytext=(50, -20),\n",
    "                textcoords='offset points', fontsize=12, color='black', ha='center', va='center',\n",
    "                arrowprops=dict(arrowstyle='->', lw=1.5, color='black'))\n",
    "    ax.annotate(f\"Max {column_name}: {max_age}\", xy=(max_age, 0.05), xycoords='data', xytext=(-50, -20),\n",
    "                textcoords='offset points', fontsize=12, color='black', ha='center', va='center',\n",
    "                arrowprops=dict(arrowstyle='->', lw=1.5, color='black'))\n",
    "    ax.annotate(f\"IQR: {q1:.1f} - {q3:.1f} = {iqr:.1f}\", xy=((q1 + q3) / 2, 0.5), xycoords='data', xytext=(0, 20),\n",
    "                textcoords='offset points', fontsize=12, color='black', ha='center', va='center',\n",
    "                arrowprops=dict(arrowstyle='-', lw=1.5, color='black'))\n",
    "    plt.show()"
   ]
  },
  {
   "cell_type": "code",
   "execution_count": 3,
   "id": "af1950db",
   "metadata": {},
   "outputs": [],
   "source": [
    "# To plot distribution of columns\n",
    "def plot_distribution(df, column_name, bin_count=20):\n",
    "\n",
    "    plt.xlabel(column_name)\n",
    "    plt.ylabel(\"Customers count\")\n",
    "    plt.title(f\"{column_name} distribution\", fontsize=15)\n",
    "    \n",
    "    # adding annotations for bins\n",
    "    bin_edges = np.histogram_bin_edges(df[column_name], bins=bin_count)\n",
    "    bin_counts, _, _ = plt.hist(df[column_name], bins=bin_edges)\n",
    "    for i in range(len(bin_edges)-1):\n",
    "        plt.annotate(f\"{bin_counts[i]:.0f}\", xy=((bin_edges[i] + bin_edges[i+1]) / 2, bin_counts[i]), \n",
    "                     xytext=(0, 5), textcoords='offset points', ha='center', va='bottom')\n",
    "    plt.show()"
   ]
  },
  {
   "cell_type": "code",
   "execution_count": null,
   "id": "5c32d09f",
   "metadata": {},
   "outputs": [],
   "source": [
    "# To compare distribution of column with target\n",
    "def plot_target_column_distribution(df, target, column_name):\n",
    "    sns.boxplot(x=target, y=column_name,\n",
    "                hue=target, data=df).set_title(f\"{column_name} vs {target}\", fontsize=15)\n",
    "    \n",
    "    # adding annotations\n",
    "    counts = df.groupby([target])[column_name].count()\n",
    "\n",
    "    plt.show()"
   ]
  }
 ],
 "metadata": {
  "kernelspec": {
   "display_name": "Python 3 (ipykernel)",
   "language": "python",
   "name": "python3"
  },
  "language_info": {
   "codemirror_mode": {
    "name": "ipython",
    "version": 3
   },
   "file_extension": ".py",
   "mimetype": "text/x-python",
   "name": "python",
   "nbconvert_exporter": "python",
   "pygments_lexer": "ipython3",
   "version": "3.8.16"
  }
 },
 "nbformat": 4,
 "nbformat_minor": 5
}
